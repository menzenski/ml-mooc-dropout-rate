{
 "cells": [
  {
   "cell_type": "markdown",
   "metadata": {},
   "source": [
    "# Predicting Dropouts on a MOOC Learning Platform\n",
    "\n",
    "Matt Menzenski and Kaleb Goering"
   ]
  },
  {
   "cell_type": "code",
   "execution_count": 63,
   "metadata": {
    "collapsed": true
   },
   "outputs": [],
   "source": [
    "from __future__ import print_function, division\n",
    "\n",
    "import math\n",
    "import numpy as np\n",
    "import os\n",
    "import pandas as pd\n",
    "import time"
   ]
  },
  {
   "cell_type": "code",
   "execution_count": 2,
   "metadata": {
    "collapsed": true
   },
   "outputs": [],
   "source": [
    "# Matthews Correlation Coefficient\n",
    "# expects input of the form [[9713.0, 5263.0], [5599.0, 51750.0]]\n",
    "# which is [[tpos, fpos], [fneg, tneg]]\n",
    "def mcc(l):\n",
    "    tpos, fpos, fneg, tneg = l[0][0], l[0][1], l[1][0], l[1][1]\n",
    "    num = (tpos * tneg - fpos * fneg)\n",
    "    den = (tpos + fpos) * (tpos + fneg) * (tneg + fpos) * (tneg + fneg)\n",
    "    return num / math.sqrt(den)"
   ]
  },
  {
   "cell_type": "markdown",
   "metadata": {},
   "source": [
    "## Data Preprocessing"
   ]
  },
  {
   "cell_type": "markdown",
   "metadata": {},
   "source": [
    "This code notebook assumes the following directory structure:\n",
    "\n",
    "```\n",
    "mattmenzenski$ tree\n",
    ".\n",
    "├── RevisedAnalysis.ipynb\n",
    "└── newdatafiles\n",
    "    ├── EECS738_DataDescription.txt\n",
    "    ├── EECS738_Test.csv\n",
    "    └── EECS738_Train.csv\n",
    "```"
   ]
  },
  {
   "cell_type": "markdown",
   "metadata": {},
   "source": [
    "### Load and examine the data set"
   ]
  },
  {
   "cell_type": "code",
   "execution_count": 3,
   "metadata": {
    "collapsed": true
   },
   "outputs": [],
   "source": [
    "DATA_DIR = 'newdatafiles/'\n",
    "RAW_DATA_FILE = 'EECS738_train.csv'\n",
    "CLEAN_DATA_FILE = 'cleandata.csv'\n",
    "\n",
    "training_file = os.path.join(DATA_DIR, RAW_DATA_FILE)"
   ]
  },
  {
   "cell_type": "markdown",
   "metadata": {},
   "source": [
    "We perform two preliminary operations to prepare the training data set for analysis:\n",
    "\n",
    "* Add a header row with a unique identifier for each column in the dataset:"
   ]
  },
  {
   "cell_type": "code",
   "execution_count": 4,
   "metadata": {
    "collapsed": true
   },
   "outputs": [],
   "source": [
    "# Column 01 is a unique identifier\n",
    "col_ID = ['ID']\n",
    "# Column 02 is the class label\n",
    "col_Lbl = ['Lbl']\n",
    "# Columns 03 through 16 are Course-related features, so we'll use C for them\n",
    "cols_C = ['C{}'.format(str(i).rjust(2, '0')) for i in range(3, 17)]\n",
    "# Columns 17 through 26 are User-related features, so we'll use U for them\n",
    "cols_U = ['U{}'.format(str(i).rjust(2, '0')) for i in range(17, 27)]\n",
    "# Columns 27 through 52 are Enrollment-related features, so we'll use E for them\n",
    "cols_E = ['E{}'.format(str(i).rjust(2, '0')) for i in range(27, 53)]\n",
    "# Create one list with all column names\n",
    "headers = [i for l in [col_ID, col_Lbl, cols_C, cols_U, cols_E] for i in l]\n",
    "\n",
    "training_data = pd.read_csv(training_file, header=False)\n",
    "training_data.columns = headers"
   ]
  },
  {
   "cell_type": "markdown",
   "metadata": {},
   "source": [
    "* Replace the original integer values of the class labels (in the second column) with string equivalents. This prevents an error when using Weka's J48 classifier (which requires nonnumeric class labels)."
   ]
  },
  {
   "cell_type": "code",
   "execution_count": 5,
   "metadata": {
    "collapsed": false
   },
   "outputs": [
    {
     "data": {
      "text/html": [
       "<div>\n",
       "<table border=\"1\" class=\"dataframe\">\n",
       "  <thead>\n",
       "    <tr style=\"text-align: right;\">\n",
       "      <th></th>\n",
       "      <th>ID</th>\n",
       "      <th>Lbl</th>\n",
       "      <th>C03</th>\n",
       "      <th>C04</th>\n",
       "      <th>C05</th>\n",
       "      <th>C06</th>\n",
       "      <th>C07</th>\n",
       "      <th>C08</th>\n",
       "      <th>C09</th>\n",
       "      <th>C10</th>\n",
       "      <th>...</th>\n",
       "      <th>E43</th>\n",
       "      <th>E44</th>\n",
       "      <th>E45</th>\n",
       "      <th>E46</th>\n",
       "      <th>E47</th>\n",
       "      <th>E48</th>\n",
       "      <th>E49</th>\n",
       "      <th>E50</th>\n",
       "      <th>E51</th>\n",
       "      <th>E52</th>\n",
       "    </tr>\n",
       "  </thead>\n",
       "  <tbody>\n",
       "    <tr>\n",
       "      <th>0</th>\n",
       "      <td>10000</td>\n",
       "      <td>zero</td>\n",
       "      <td>712</td>\n",
       "      <td>7</td>\n",
       "      <td>222</td>\n",
       "      <td>110</td>\n",
       "      <td>0</td>\n",
       "      <td>0</td>\n",
       "      <td>3669</td>\n",
       "      <td>310966</td>\n",
       "      <td>...</td>\n",
       "      <td>0</td>\n",
       "      <td>1</td>\n",
       "      <td>0</td>\n",
       "      <td>1</td>\n",
       "      <td>2</td>\n",
       "      <td>0.001</td>\n",
       "      <td>5918</td>\n",
       "      <td>25023</td>\n",
       "      <td>52</td>\n",
       "      <td>22</td>\n",
       "    </tr>\n",
       "    <tr>\n",
       "      <th>1</th>\n",
       "      <td>100002</td>\n",
       "      <td>one</td>\n",
       "      <td>334</td>\n",
       "      <td>12</td>\n",
       "      <td>53</td>\n",
       "      <td>65</td>\n",
       "      <td>1</td>\n",
       "      <td>0</td>\n",
       "      <td>13879</td>\n",
       "      <td>767680</td>\n",
       "      <td>...</td>\n",
       "      <td>0</td>\n",
       "      <td>1</td>\n",
       "      <td>0</td>\n",
       "      <td>0</td>\n",
       "      <td>2</td>\n",
       "      <td>0.000</td>\n",
       "      <td>0</td>\n",
       "      <td>0</td>\n",
       "      <td>0</td>\n",
       "      <td>1</td>\n",
       "    </tr>\n",
       "    <tr>\n",
       "      <th>2</th>\n",
       "      <td>100003</td>\n",
       "      <td>one</td>\n",
       "      <td>334</td>\n",
       "      <td>12</td>\n",
       "      <td>53</td>\n",
       "      <td>65</td>\n",
       "      <td>1</td>\n",
       "      <td>0</td>\n",
       "      <td>13879</td>\n",
       "      <td>767680</td>\n",
       "      <td>...</td>\n",
       "      <td>0</td>\n",
       "      <td>1</td>\n",
       "      <td>0</td>\n",
       "      <td>0</td>\n",
       "      <td>1</td>\n",
       "      <td>0.000</td>\n",
       "      <td>0</td>\n",
       "      <td>0</td>\n",
       "      <td>0</td>\n",
       "      <td>0</td>\n",
       "    </tr>\n",
       "    <tr>\n",
       "      <th>3</th>\n",
       "      <td>100006</td>\n",
       "      <td>one</td>\n",
       "      <td>385</td>\n",
       "      <td>12</td>\n",
       "      <td>17</td>\n",
       "      <td>132</td>\n",
       "      <td>0</td>\n",
       "      <td>0</td>\n",
       "      <td>1978</td>\n",
       "      <td>64964</td>\n",
       "      <td>...</td>\n",
       "      <td>0</td>\n",
       "      <td>1</td>\n",
       "      <td>0</td>\n",
       "      <td>3</td>\n",
       "      <td>1</td>\n",
       "      <td>0.000</td>\n",
       "      <td>0</td>\n",
       "      <td>0</td>\n",
       "      <td>0</td>\n",
       "      <td>3</td>\n",
       "    </tr>\n",
       "    <tr>\n",
       "      <th>4</th>\n",
       "      <td>100007</td>\n",
       "      <td>one</td>\n",
       "      <td>564</td>\n",
       "      <td>14</td>\n",
       "      <td>64</td>\n",
       "      <td>133</td>\n",
       "      <td>6</td>\n",
       "      <td>0</td>\n",
       "      <td>5026</td>\n",
       "      <td>177477</td>\n",
       "      <td>...</td>\n",
       "      <td>0</td>\n",
       "      <td>1</td>\n",
       "      <td>0</td>\n",
       "      <td>2</td>\n",
       "      <td>1</td>\n",
       "      <td>0.000</td>\n",
       "      <td>0</td>\n",
       "      <td>0</td>\n",
       "      <td>0</td>\n",
       "      <td>2</td>\n",
       "    </tr>\n",
       "  </tbody>\n",
       "</table>\n",
       "<p>5 rows × 52 columns</p>\n",
       "</div>"
      ],
      "text/plain": [
       "       ID   Lbl  C03  C04  C05  C06  C07  C08    C09     C10 ...   E43  E44  \\\n",
       "0   10000  zero  712    7  222  110    0    0   3669  310966 ...     0    1   \n",
       "1  100002   one  334   12   53   65    1    0  13879  767680 ...     0    1   \n",
       "2  100003   one  334   12   53   65    1    0  13879  767680 ...     0    1   \n",
       "3  100006   one  385   12   17  132    0    0   1978   64964 ...     0    1   \n",
       "4  100007   one  564   14   64  133    6    0   5026  177477 ...     0    1   \n",
       "\n",
       "   E45  E46  E47    E48   E49    E50  E51  E52  \n",
       "0    0    1    2  0.001  5918  25023   52   22  \n",
       "1    0    0    2  0.000     0      0    0    1  \n",
       "2    0    0    1  0.000     0      0    0    0  \n",
       "3    0    3    1  0.000     0      0    0    3  \n",
       "4    0    2    1  0.000     0      0    0    2  \n",
       "\n",
       "[5 rows x 52 columns]"
      ]
     },
     "execution_count": 5,
     "metadata": {},
     "output_type": "execute_result"
    }
   ],
   "source": [
    "replacements = {0: 'zero', 1: 'one'}\n",
    "training_data['Lbl'] = training_data['Lbl'].map(replacements)\n",
    "\n",
    "training_data.head()"
   ]
  },
  {
   "cell_type": "markdown",
   "metadata": {},
   "source": [
    "Finally, we need to save the preprocessed data as a CSV file, since Weka can't import a `pandas.DataFrame` object directly. We'll quote strings and remove the index column which `pandas` added."
   ]
  },
  {
   "cell_type": "code",
   "execution_count": 6,
   "metadata": {
    "collapsed": true
   },
   "outputs": [],
   "source": [
    "training_data.to_csv(\n",
    "    path_or_buf=os.path.join(DATA_DIR, CLEAN_DATA_FILE), quotechar=\"'\",\n",
    "    index=False)"
   ]
  },
  {
   "cell_type": "markdown",
   "metadata": {},
   "source": [
    "## Part One: Building and Evaluating Classifiers with Default Parameters"
   ]
  },
  {
   "cell_type": "markdown",
   "metadata": {},
   "source": [
    "#### Setting up the Environment\n",
    "\n",
    "First we need to start the Java virtual machine and locate the directory with the data. (This does require that the `weka.jar` file can be found by the Java CLASSPATH.)"
   ]
  },
  {
   "cell_type": "code",
   "execution_count": 7,
   "metadata": {
    "collapsed": true
   },
   "outputs": [],
   "source": [
    "import weka.core.jvm as jvm\n",
    "jvm.start()"
   ]
  },
  {
   "cell_type": "markdown",
   "metadata": {},
   "source": [
    "Then we need to set up the data loader for CSV files."
   ]
  },
  {
   "cell_type": "code",
   "execution_count": 8,
   "metadata": {
    "collapsed": true
   },
   "outputs": [],
   "source": [
    "from weka.core.converters import Loader\n",
    "loader = Loader(classname=\"weka.core.converters.CSVLoader\")"
   ]
  },
  {
   "cell_type": "markdown",
   "metadata": {},
   "source": [
    "Load the data file and specify that the label is found in the second column."
   ]
  },
  {
   "cell_type": "code",
   "execution_count": 9,
   "metadata": {
    "collapsed": false
   },
   "outputs": [],
   "source": [
    "data = loader.load_file(DATA_DIR + CLEAN_DATA_FILE)\n",
    "data.class_index = 1 # first column is enrollment ID, second column is label"
   ]
  },
  {
   "cell_type": "code",
   "execution_count": 10,
   "metadata": {
    "collapsed": true
   },
   "outputs": [],
   "source": [
    "from weka.classifiers import Classifier, Evaluation\n",
    "from weka.core.classes import Random"
   ]
  },
  {
   "cell_type": "markdown",
   "metadata": {},
   "source": [
    "### 1. J48 Classifier\n",
    "\n",
    "Construct a classifier for the data."
   ]
  },
  {
   "cell_type": "code",
   "execution_count": 11,
   "metadata": {
    "collapsed": false
   },
   "outputs": [
    {
     "name": "stdout",
     "output_type": "stream",
     "text": [
      "The J48 classifier took 39.039 seconds to build.\n"
     ]
    }
   ],
   "source": [
    "from weka.classifiers import Classifier\n",
    "weka_j48 = Classifier(classname=\"weka.classifiers.trees.J48\") # use default (-C=0.25)\n",
    "# weka_j48 = Classifier(classname=\"weka.classifiers.trees.J48\", options=[\"-C\", \"0.3\"])\n",
    "time_start = int(time.time() * 1000)\n",
    "weka_j48.build_classifier(data)\n",
    "time_stop = int(time.time() * 1000)\n",
    "time_interval = (time_stop - time_start) / 1000\n",
    "print(\"The J48 classifier took {} seconds to build.\".format(time_interval))"
   ]
  },
  {
   "cell_type": "markdown",
   "metadata": {},
   "source": [
    "Output some predictions."
   ]
  },
  {
   "cell_type": "code",
   "execution_count": 12,
   "metadata": {
    "collapsed": false
   },
   "outputs": [
    {
     "name": "stdout",
     "output_type": "stream",
     "text": [
      " 1: prediction = 0.0, class distribution = [ 1.  0.]\n",
      " 2: prediction = 1.0, class distribution = [ 0.07080634  0.92919366]\n",
      " 3: prediction = 1.0, class distribution = [ 0.04225726  0.95774274]\n",
      " 4: prediction = 1.0, class distribution = [ 0.04225726  0.95774274]\n",
      " 5: prediction = 1.0, class distribution = [ 0.04225726  0.95774274]\n",
      " 6: prediction = 1.0, class distribution = [ 0.04225726  0.95774274]\n",
      " 7: prediction = 0.0, class distribution = [ 0.91544118  0.08455882]\n",
      " 8: prediction = 1.0, class distribution = [ 0.04225726  0.95774274]\n",
      " 9: prediction = 1.0, class distribution = [ 0.04225726  0.95774274]\n",
      "10: prediction = 1.0, class distribution = [ 0.04225726  0.95774274]\n",
      "11: prediction = 1.0, class distribution = [ 0.04225726  0.95774274]\n"
     ]
    }
   ],
   "source": [
    "for index, instance in enumerate(data):\n",
    "    if index <= 10:\n",
    "        prediction = weka_j48.classify_instance(instance)\n",
    "        distribution = weka_j48.distribution_for_instance(instance)\n",
    "        print(\"{}: prediction = {}, class distribution = {}\".format(\n",
    "            str(index + 1).rjust(2, ' '), prediction, distribution))"
   ]
  },
  {
   "cell_type": "markdown",
   "metadata": {},
   "source": [
    "Print the model."
   ]
  },
  {
   "cell_type": "code",
   "execution_count": 97,
   "metadata": {
    "collapsed": false
   },
   "outputs": [],
   "source": [
    "# commenting out because it's very long\n",
    "#print(weka_j48)"
   ]
  },
  {
   "cell_type": "markdown",
   "metadata": {},
   "source": [
    "Draw a graph. (Commented out because this graph is way, way too large to display—it triggers a DecompressionBombWarning)."
   ]
  },
  {
   "cell_type": "code",
   "execution_count": 14,
   "metadata": {
    "collapsed": false
   },
   "outputs": [],
   "source": [
    "#import weka.plot.graph as graph\n",
    "#graph.plot_dot_graph(weka_j48.graph)"
   ]
  },
  {
   "cell_type": "markdown",
   "metadata": {},
   "source": [
    "### 2. Naive Bayes Classifier\n",
    "\n",
    "Construct a classifier for the data."
   ]
  },
  {
   "cell_type": "code",
   "execution_count": 15,
   "metadata": {
    "collapsed": false
   },
   "outputs": [
    {
     "name": "stdout",
     "output_type": "stream",
     "text": [
      "The Naive Bayes classifier took 1.115 seconds to build.\n"
     ]
    }
   ],
   "source": [
    "from weka.classifiers import Classifier\n",
    "weka_naive_bayes = Classifier(classname=\"weka.classifiers.bayes.NaiveBayes\")\n",
    "time_start = int(time.time() * 1000)\n",
    "weka_naive_bayes.build_classifier(data)\n",
    "time_stop = int(time.time() * 1000)\n",
    "time_interval = (time_stop - time_start) / 1000\n",
    "print(\"The Naive Bayes classifier took {} seconds to build.\".format(time_interval))"
   ]
  },
  {
   "cell_type": "markdown",
   "metadata": {},
   "source": [
    "Output some predictions."
   ]
  },
  {
   "cell_type": "code",
   "execution_count": 16,
   "metadata": {
    "collapsed": false
   },
   "outputs": [
    {
     "name": "stdout",
     "output_type": "stream",
     "text": [
      " 1: prediction = 0.0, class distribution = [  1.00000000e+00   2.42365505e-22]\n",
      " 2: prediction = 1.0, class distribution = [  3.24058041e-11   1.00000000e+00]\n",
      " 3: prediction = 1.0, class distribution = [  2.47992231e-20   1.00000000e+00]\n",
      " 4: prediction = 1.0, class distribution = [  4.47827554e-14   1.00000000e+00]\n",
      " 5: prediction = 1.0, class distribution = [  1.95441454e-18   1.00000000e+00]\n",
      " 6: prediction = 1.0, class distribution = [  5.76455193e-18   1.00000000e+00]\n",
      " 7: prediction = 0.0, class distribution = [  1.00000000e+000   2.22508080e-101]\n",
      " 8: prediction = 1.0, class distribution = [  4.73543565e-16   1.00000000e+00]\n",
      " 9: prediction = 1.0, class distribution = [  1.38167414e-13   1.00000000e+00]\n",
      "10: prediction = 1.0, class distribution = [  7.03733253e-20   1.00000000e+00]\n",
      "11: prediction = 1.0, class distribution = [  4.15138710e-14   1.00000000e+00]\n"
     ]
    }
   ],
   "source": [
    "for index, instance in enumerate(data):\n",
    "    if index <= 10:\n",
    "        prediction = weka_naive_bayes.classify_instance(instance)\n",
    "        distribution = weka_naive_bayes.distribution_for_instance(instance)\n",
    "        print(\"{}: prediction = {}, class distribution = {}\".format(\n",
    "            str(index + 1).rjust(2, ' '), prediction, distribution))"
   ]
  },
  {
   "cell_type": "markdown",
   "metadata": {},
   "source": [
    "Print the model."
   ]
  },
  {
   "cell_type": "code",
   "execution_count": 96,
   "metadata": {
    "collapsed": false
   },
   "outputs": [],
   "source": [
    "# commenting out because it's very long\n",
    "#print(weka_naive_bayes)"
   ]
  },
  {
   "cell_type": "markdown",
   "metadata": {},
   "source": [
    "### 3. Logistic Classifier\n",
    "\n",
    "Construct a classifier for the data."
   ]
  },
  {
   "cell_type": "code",
   "execution_count": 18,
   "metadata": {
    "collapsed": false
   },
   "outputs": [
    {
     "name": "stdout",
     "output_type": "stream",
     "text": [
      "The Logistic classifier took 11.392 seconds to build.\n"
     ]
    }
   ],
   "source": [
    "from weka.classifiers import Classifier\n",
    "weka_logistic = Classifier(classname=\"weka.classifiers.functions.Logistic\")\n",
    "time_start = int(time.time() * 1000)\n",
    "weka_logistic.build_classifier(data)\n",
    "time_stop = int(time.time() * 1000)\n",
    "time_interval = (time_stop - time_start) / 1000\n",
    "print(\"The Logistic classifier took {} seconds to build.\".format(time_interval))"
   ]
  },
  {
   "cell_type": "markdown",
   "metadata": {},
   "source": [
    "Output some predictions."
   ]
  },
  {
   "cell_type": "code",
   "execution_count": 19,
   "metadata": {
    "collapsed": false
   },
   "outputs": [
    {
     "name": "stdout",
     "output_type": "stream",
     "text": [
      " 1: prediction = 1.0, class distribution = [ 0.43447646  0.56552354]\n",
      " 2: prediction = 1.0, class distribution = [ 0.02622812  0.97377188]\n",
      " 3: prediction = 1.0, class distribution = [ 0.02023621  0.97976379]\n",
      " 4: prediction = 1.0, class distribution = [ 0.01948813  0.98051187]\n",
      " 5: prediction = 1.0, class distribution = [ 0.01391849  0.98608151]\n",
      " 6: prediction = 1.0, class distribution = [ 0.0205215  0.9794785]\n",
      " 7: prediction = 0.0, class distribution = [ 0.77893358  0.22106642]\n",
      " 8: prediction = 1.0, class distribution = [ 0.04177864  0.95822136]\n",
      " 9: prediction = 1.0, class distribution = [ 0.02687556  0.97312444]\n",
      "10: prediction = 1.0, class distribution = [ 0.0253111  0.9746889]\n",
      "11: prediction = 1.0, class distribution = [ 0.03442926  0.96557074]\n"
     ]
    }
   ],
   "source": [
    "for index, instance in enumerate(data):\n",
    "    if index <= 10:\n",
    "        prediction = weka_logistic.classify_instance(instance)\n",
    "        distribution = weka_logistic.distribution_for_instance(instance)\n",
    "        print(\"{}: prediction = {}, class distribution = {}\".format(\n",
    "            str(index + 1).rjust(2, ' '), prediction, distribution))"
   ]
  },
  {
   "cell_type": "markdown",
   "metadata": {},
   "source": [
    "Print the model."
   ]
  },
  {
   "cell_type": "code",
   "execution_count": 95,
   "metadata": {
    "collapsed": false,
    "scrolled": true
   },
   "outputs": [],
   "source": [
    "# commenting out because it's very long\n",
    "#print(weka_logistic)"
   ]
  },
  {
   "cell_type": "markdown",
   "metadata": {},
   "source": [
    "## Measuring Classifier Accuracy\n",
    "\n",
    "First we need to set up and initialize an `Evaluation` instance."
   ]
  },
  {
   "cell_type": "code",
   "execution_count": 21,
   "metadata": {
    "collapsed": true
   },
   "outputs": [],
   "source": [
    "from weka.classifiers import Evaluation\n",
    "from weka.core.classes import Random"
   ]
  },
  {
   "cell_type": "markdown",
   "metadata": {},
   "source": [
    "Conduct ten-fold cross-validation on the J48 classifier."
   ]
  },
  {
   "cell_type": "code",
   "execution_count": 22,
   "metadata": {
    "collapsed": false
   },
   "outputs": [
    {
     "name": "stdout",
     "output_type": "stream",
     "text": [
      "A ten-fold cross-validation of the J48 classifier took 325.112 seconds.\n",
      "\n",
      "Correctly Classified Instances       61645               85.2333 %\n",
      "Incorrectly Classified Instances     10680               14.7667 %\n",
      "Kappa statistic                          0.5199\n",
      "Mean absolute error                      0.1847\n",
      "Root mean squared error                  0.3673\n",
      "Relative absolute error                 56.2465 %\n",
      "Root relative squared error             90.6542 %\n",
      "Coverage of cases (0.95 level)          91.5009 %\n",
      "Mean rel. region size (0.95 level)      68.598  %\n",
      "Total Number of Instances            72325     \n",
      "\n"
     ]
    }
   ],
   "source": [
    "evaluation_j48 = Evaluation(data)\n",
    "time_start = int(time.time() * 1000)\n",
    "evaluation_j48.crossvalidate_model(weka_j48, data, 10, Random(1))\n",
    "time_stop = int(time.time() * 1000)\n",
    "time_interval = (time_stop - time_start) / 1000\n",
    "print(\"A ten-fold cross-validation of the J48 classifier took {} seconds.\".format(\n",
    "        time_interval))\n",
    "print(evaluation_j48.summary())"
   ]
  },
  {
   "cell_type": "code",
   "execution_count": 23,
   "metadata": {
    "collapsed": false
   },
   "outputs": [
    {
     "name": "stdout",
     "output_type": "stream",
     "text": [
      "Percent Correct: 85.2333218113\n",
      "Number Incorrect: 10680.0\n"
     ]
    }
   ],
   "source": [
    "print(\"Percent Correct: {}\".format(evaluation_j48.percent_correct))\n",
    "print(\"Number Incorrect: {}\".format(evaluation_j48.incorrect))"
   ]
  },
  {
   "cell_type": "code",
   "execution_count": 24,
   "metadata": {
    "collapsed": false
   },
   "outputs": [
    {
     "data": {
      "image/png": "[encoded data removed]",
      "text/plain": [
       "<matplotlib.figure.Figure at 0x1272b83d0>"
      ]
     },
     "metadata": {},
     "output_type": "display_data"
    }
   ],
   "source": [
    "import matplotlib.pyplot as plt\n",
    "plt.style.use('ggplot')\n",
    "%matplotlib inline\n",
    "import weka.plot.classifiers as plcls # matplotlib is requires\n",
    "plcls.plot_roc(evaluation_j48, wait=True)"
   ]
  },
  {
   "cell_type": "markdown",
   "metadata": {},
   "source": [
    "Conduct ten-fold cross-validation on the Naive Bayes classifier."
   ]
  },
  {
   "cell_type": "code",
   "execution_count": 25,
   "metadata": {
    "collapsed": false
   },
   "outputs": [
    {
     "name": "stdout",
     "output_type": "stream",
     "text": [
      "A ten-fold cross-validation of the Naive Bayes classifier took 8.634 seconds.\n",
      "\n",
      "Correctly Classified Instances       61463               84.9817 %\n",
      "Incorrectly Classified Instances     10862               15.0183 %\n",
      "Kappa statistic                          0.5464\n",
      "Mean absolute error                      0.1508\n",
      "Root mean squared error                  0.3817\n",
      "Relative absolute error                 45.9238 %\n",
      "Root relative squared error             94.2049 %\n",
      "Coverage of cases (0.95 level)          86.3616 %\n",
      "Mean rel. region size (0.95 level)      51.476  %\n",
      "Total Number of Instances            72325     \n",
      "\n"
     ]
    }
   ],
   "source": [
    "evaluation_naive_bayes = Evaluation(data)\n",
    "time_start = int(time.time() * 1000)\n",
    "evaluation_naive_bayes.crossvalidate_model(weka_naive_bayes, data, 10, Random(1))\n",
    "time_stop = int(time.time() * 1000)\n",
    "time_interval = (time_stop - time_start) / 1000\n",
    "print(\"A ten-fold cross-validation of the Naive Bayes classifier took {} seconds.\".format(\n",
    "        time_interval))\n",
    "print(evaluation_naive_bayes.summary())"
   ]
  },
  {
   "cell_type": "code",
   "execution_count": 26,
   "metadata": {
    "collapsed": false
   },
   "outputs": [
    {
     "name": "stdout",
     "output_type": "stream",
     "text": [
      "Percent Correct: 84.981679917\n",
      "Number Incorrect: 10862.0\n"
     ]
    }
   ],
   "source": [
    "print(\"Percent Correct: {}\".format(evaluation_naive_bayes.percent_correct))\n",
    "print(\"Number Incorrect: {}\".format(evaluation_naive_bayes.incorrect))"
   ]
  },
  {
   "cell_type": "code",
   "execution_count": 27,
   "metadata": {
    "collapsed": false
   },
   "outputs": [
    {
     "data": {
      "image/png": "[encoded data removed]",
      "text/plain": [
       "<matplotlib.figure.Figure at 0x1275c9190>"
      ]
     },
     "metadata": {},
     "output_type": "display_data"
    }
   ],
   "source": [
    "%matplotlib inline\n",
    "import weka.plot.classifiers as plcls # matplotlib is requires\n",
    "plcls.plot_roc(evaluation_naive_bayes, wait=True)"
   ]
  },
  {
   "cell_type": "code",
   "execution_count": 28,
   "metadata": {
    "collapsed": false
   },
   "outputs": [
    {
     "name": "stdout",
     "output_type": "stream",
     "text": [
      "0.54646559932\n"
     ]
    }
   ],
   "source": [
    "list = evaluation_naive_bayes.confusion_matrix.tolist()\n",
    "print(mcc(list))"
   ]
  },
  {
   "cell_type": "markdown",
   "metadata": {},
   "source": [
    "Conduct ten-fold cross-validation on the Logistic classifier."
   ]
  },
  {
   "cell_type": "code",
   "execution_count": 29,
   "metadata": {
    "collapsed": false
   },
   "outputs": [
    {
     "name": "stdout",
     "output_type": "stream",
     "text": [
      "A ten-fold cross-validation of the Logistic classifier took 90.088 seconds.\n",
      "\n",
      "Correctly Classified Instances       63396               87.6543 %\n",
      "Incorrectly Classified Instances      8929               12.3457 %\n",
      "Kappa statistic                          0.5817\n",
      "Mean absolute error                      0.1889\n",
      "Root mean squared error                  0.3068\n",
      "Relative absolute error                 57.5266 %\n",
      "Root relative squared error             75.712  %\n",
      "Coverage of cases (0.95 level)          98.7777 %\n",
      "Mean rel. region size (0.95 level)      81.3059 %\n",
      "Total Number of Instances            72325     \n",
      "\n"
     ]
    }
   ],
   "source": [
    "evaluation_logistic = Evaluation(data)\n",
    "time_start = int(time.time() * 1000)\n",
    "evaluation_logistic.crossvalidate_model(weka_logistic, data, 10, Random(1))\n",
    "time_stop = int(time.time() * 1000)\n",
    "time_interval = (time_stop - time_start) / 1000\n",
    "print(\"A ten-fold cross-validation of the Logistic classifier took {} seconds.\".format(\n",
    "        time_interval))\n",
    "print(evaluation_logistic.summary())"
   ]
  },
  {
   "cell_type": "code",
   "execution_count": 30,
   "metadata": {
    "collapsed": false
   },
   "outputs": [
    {
     "name": "stdout",
     "output_type": "stream",
     "text": [
      "Percent Correct: 87.6543380574\n",
      "Number Incorrect: 8929.0\n"
     ]
    }
   ],
   "source": [
    "print(\"Percent Correct: {}\".format(evaluation_logistic.percent_correct))\n",
    "print(\"Number Incorrect: {}\".format(evaluation_logistic.incorrect))"
   ]
  },
  {
   "cell_type": "code",
   "execution_count": 31,
   "metadata": {
    "collapsed": false
   },
   "outputs": [
    {
     "data": {
      "image/png": "[encoded data removed]",
      "text/plain": [
       "<matplotlib.figure.Figure at 0x127500ed0>"
      ]
     },
     "metadata": {},
     "output_type": "display_data"
    }
   ],
   "source": [
    "%matplotlib inline\n",
    "import weka.plot.classifiers as plcls # matplotlib is required\n",
    "plcls.plot_roc(evaluation_logistic, wait=True)"
   ]
  },
  {
   "cell_type": "markdown",
   "metadata": {},
   "source": [
    "### Conclusions\n",
    "\n",
    "We built three classifiers for the training data set using Weka's default parameters and then measured the accuracy of those three classifiers on the same training set using ten-fold cross-validation.\n",
    "\n",
    "1. The J48 classifier correctly classified 85.34% of instances.\n",
    "1. The Naive Bayes classifier correctly classified 84.95% of instances.\n",
    "1. The Logistic classifier correctly classified 87.64% of instances.\n",
    "\n",
    "We thus conclude that of these three, the Logistic classifier is the most accurate when using the default parameters."
   ]
  },
  {
   "cell_type": "markdown",
   "metadata": {},
   "source": [
    "### Ending the Script\n",
    "\n",
    "Uncomment this next line to end the script's Java virtual machine."
   ]
  },
  {
   "cell_type": "code",
   "execution_count": 32,
   "metadata": {
    "collapsed": true
   },
   "outputs": [],
   "source": [
    "#jvm.stop()"
   ]
  },
  {
   "cell_type": "markdown",
   "metadata": {
    "collapsed": true
   },
   "source": [
    "## Part Two: Averaging from Multiple Iterations\n",
    "\n",
    "In this part of the project, we continue to use the default parameters of the three models, but we test them with 20 iterations each and report the average accuracy, the area under the ROC curve, and the Matthews Correlation Coefficient for each model. We also report the average time that each training process and evaluation process (a ten-fold cross-validation) takes."
   ]
  },
  {
   "cell_type": "code",
   "execution_count": 57,
   "metadata": {
    "collapsed": true
   },
   "outputs": [],
   "source": [
    "# define a template string we can use to print results\n",
    "results_template = (\"{}\\n\"\n",
    "                    \"  Results over {} iterations: \\n\"\n",
    "                    \"    Training time: mean {} seconds, stdev {} seconds\\n\"\n",
    "                    \"    Accuracy: mean {} percent, stdev {} percent\\n\"\n",
    "                    \"    Area under ROC curve: mean {}, stdev {}\\n\"\n",
    "                    \"    Matthews Correlation Coefficient: mean {}, stdev {}\\n\"\n",
    "                    \"    Ten-fold cross-validation time: mean {} seconds, stdev {} seconds\")"
   ]
  },
  {
   "cell_type": "markdown",
   "metadata": {},
   "source": [
    "### J48 Classifier"
   ]
  },
  {
   "cell_type": "code",
   "execution_count": 33,
   "metadata": {
    "collapsed": false
   },
   "outputs": [
    {
     "name": "stdout",
     "output_type": "stream",
     "text": [
      "Results over 20 iterations: \n",
      "  Average training time: 37.2439 seconds\n",
      "  Average accuracy: 85.2333218113 percent\n",
      "  Average area under ROC curve: 0.73798435131\n",
      "  Average Matthews Correlation Coefficient: 0.523401362276\n",
      "  Average ten-fold cross-validation time: 321.09125 seconds\n"
     ]
    }
   ],
   "source": [
    "j48_results = {\n",
    "    'train_time': [],\n",
    "    'accuracy': [],\n",
    "    'area_under_curve': [],\n",
    "    'mcc': [],\n",
    "    'eval_time': [],\n",
    "}\n",
    "iterations = 20\n",
    "for i in xrange(1, iterations + 1):\n",
    "    # train the classifier\n",
    "    weka_j48 = Classifier(classname=\"weka.classifiers.trees.J48\")\n",
    "    train_time_start = int(time.time() * 1000)\n",
    "    weka_j48.build_classifier(data)\n",
    "    train_time_stop = int(time.time() * 1000)\n",
    "    train_time_interval = (train_time_stop - train_time_start) / 1000\n",
    "    j48_results['train_time'].append(train_time_interval)\n",
    "    # evaluate it with ten-fold cross-validation\n",
    "    evaluation_j48 = Evaluation(data)\n",
    "    eval_time_start = int(time.time() * 1000)\n",
    "    evaluation_j48.crossvalidate_model(weka_j48, data, 10, Random(1))\n",
    "    eval_time_stop = int(time.time() * 1000)\n",
    "    eval_time_interval = (eval_time_stop - eval_time_start) / 1000\n",
    "    j48_results['eval_time'].append(eval_time_interval)\n",
    "    j48_results['accuracy'].append(evaluation_j48.percent_correct)\n",
    "    j48_results['area_under_curve'].append(evaluation_j48.area_under_roc(1))\n",
    "    j48_results['mcc'].append(mcc(evaluation_j48.confusion_matrix.tolist()))"
   ]
  },
  {
   "cell_type": "code",
   "execution_count": 65,
   "metadata": {
    "collapsed": false
   },
   "outputs": [
    {
     "name": "stdout",
     "output_type": "stream",
     "text": [
      "J48 CLASSIFIER ON FULL DATASET\n",
      "  Results over 20 iterations: \n",
      "    Training time: mean 37.2439 seconds, stdev 1.20287409566 seconds\n",
      "    Accuracy: mean 85.2333218113 percent, stdev 1.42108547152e-14 percent\n",
      "    Area under ROC curve: mean 0.73798435131, stdev 0.0\n",
      "    Matthews Correlation Coefficient: mean 0.523401362276, stdev 0.0\n",
      "    Ten-fold cross-validation time: mean 321.09125 seconds, stdev 2.74613154956 seconds\n"
     ]
    }
   ],
   "source": [
    "# summarize the results\n",
    "print(results_template.format(\n",
    "        'J48 Classifier on Full Dataset'.upper(), iterations,\n",
    "        np.mean(j48_results['train_time']), np.std(j48_results['train_time']),\n",
    "        np.mean(j48_results['accuracy']), np.std(j48_results['accuracy']),\n",
    "        np.mean(j48_results['area_under_curve']), np.std(j48_results['area_under_curve']),\n",
    "        np.mean(j48_results['mcc']), np.std(j48_results['mcc']),\n",
    "        np.mean(j48_results['eval_time']), np.std(j48_results['eval_time'])))"
   ]
  },
  {
   "cell_type": "markdown",
   "metadata": {},
   "source": [
    "### Naive Bayes Classifier"
   ]
  },
  {
   "cell_type": "code",
   "execution_count": 34,
   "metadata": {
    "collapsed": false
   },
   "outputs": [
    {
     "name": "stdout",
     "output_type": "stream",
     "text": [
      "Results over 20 iterations: \n",
      "  Average training time: 0.7117 seconds\n",
      "  Average accuracy: 84.981679917 percent\n",
      "  Average area under ROC curve: 0.857948889851\n",
      "  Average Matthews Correlation Coefficient: 0.54646559932\n",
      "  Average ten-fold cross-validation time: 8.14895 seconds\n"
     ]
    }
   ],
   "source": [
    "naive_bayes_results = {\n",
    "    'train_time': [],\n",
    "    'accuracy': [],\n",
    "    'area_under_curve': [],\n",
    "    'mcc': [],\n",
    "    'eval_time': [],\n",
    "    }\n",
    "iterations = 20\n",
    "for i in xrange(1, iterations + 1):\n",
    "    # train the classifier\n",
    "    weka_naive_bayes = Classifier(classname=\"weka.classifiers.bayes.NaiveBayes\")\n",
    "    train_time_start = int(time.time() * 1000)\n",
    "    weka_naive_bayes.build_classifier(data)\n",
    "    train_time_stop = int(time.time() * 1000)\n",
    "    train_time_interval = (train_time_stop - train_time_start) / 1000\n",
    "    naive_bayes_results['train_time'].append(train_time_interval)\n",
    "    # evaluate it with ten-fold cross-validation\n",
    "    evaluation_naive_bayes = Evaluation(data)\n",
    "    eval_time_start = int(time.time() * 1000)\n",
    "    evaluation_naive_bayes.crossvalidate_model(weka_naive_bayes, data, 10, Random(1))\n",
    "    eval_time_stop = int(time.time() * 1000)\n",
    "    eval_time_interval = (eval_time_stop - eval_time_start) / 1000\n",
    "    naive_bayes_results['eval_time'].append(eval_time_interval)\n",
    "    naive_bayes_results['accuracy'].append(evaluation_naive_bayes.percent_correct)\n",
    "    naive_bayes_results['area_under_curve'].append(evaluation_naive_bayes.area_under_roc(1))\n",
    "    naive_bayes_results['mcc'].append(mcc(evaluation_naive_bayes.confusion_matrix.tolist()))"
   ]
  },
  {
   "cell_type": "code",
   "execution_count": 67,
   "metadata": {
    "collapsed": false
   },
   "outputs": [
    {
     "name": "stdout",
     "output_type": "stream",
     "text": [
      "NAIVE BAYES CLASSIFIER ON FULL DATASET\n",
      "  Results over 20 iterations: \n",
      "    Training time: mean 0.7117 seconds, stdev 0.0940984059376 seconds\n",
      "    Accuracy: mean 84.981679917 percent, stdev 1.42108547152e-14 percent\n",
      "    Area under ROC curve: mean 0.857948889851, stdev 0.0\n",
      "    Matthews Correlation Coefficient: mean 0.54646559932, stdev 1.11022302463e-16\n",
      "    Ten-fold cross-validation time: mean 8.14895 seconds, stdev 0.269235115652 seconds\n"
     ]
    }
   ],
   "source": [
    "# summarize the results\n",
    "print(results_template.format(\n",
    "        'Naive Bayes Classifier on Full Dataset'.upper(), iterations,\n",
    "        np.mean(naive_bayes_results['train_time']), np.std(naive_bayes_results['train_time']),\n",
    "        np.mean(naive_bayes_results['accuracy']), np.std(naive_bayes_results['accuracy']),\n",
    "        np.mean(naive_bayes_results['area_under_curve']), np.std(naive_bayes_results['area_under_curve']),\n",
    "        np.mean(naive_bayes_results['mcc']), np.std(naive_bayes_results['mcc']),\n",
    "        np.mean(naive_bayes_results['eval_time']), np.std(naive_bayes_results['eval_time'])))"
   ]
  },
  {
   "cell_type": "markdown",
   "metadata": {},
   "source": [
    "### Logistic Classifier"
   ]
  },
  {
   "cell_type": "code",
   "execution_count": 35,
   "metadata": {
    "collapsed": false
   },
   "outputs": [
    {
     "name": "stdout",
     "output_type": "stream",
     "text": [
      "Results over 20 iterations: \n",
      "  Average training time: 10.4326 seconds\n",
      "  Average accuracy: 87.6543380574 percent\n",
      "  Average area under ROC curve: 0.8812323319\n",
      "  Average Matthews Correlation Coefficient: 0.592735418698\n",
      "  Average ten-fold cross-validation time: 91.05705 seconds\n"
     ]
    }
   ],
   "source": [
    "logistic_results = {\n",
    "    'train_time': [],\n",
    "    'accuracy': [],\n",
    "    'area_under_curve': [],\n",
    "    'mcc': [],\n",
    "    'eval_time': [],\n",
    "    }\n",
    "iterations = 20\n",
    "for i in xrange(1, iterations + 1):\n",
    "    # train the classifier\n",
    "    weka_logistic = Classifier(classname=\"weka.classifiers.functions.Logistic\")\n",
    "    train_time_start = int(time.time() * 1000)\n",
    "    weka_logistic.build_classifier(data)\n",
    "    train_time_stop = int(time.time() * 1000)\n",
    "    train_time_interval = (train_time_stop - train_time_start) / 1000\n",
    "    logistic_results['train_time'].append(train_time_interval)\n",
    "    # evaluate it with ten-fold cross-validation\n",
    "    evaluation_logistic = Evaluation(data)\n",
    "    eval_time_start = int(time.time() * 1000)\n",
    "    evaluation_logistic.crossvalidate_model(weka_logistic, data, 10, Random(1))\n",
    "    eval_time_stop = int(time.time() * 1000)\n",
    "    eval_time_interval = (eval_time_stop - eval_time_start) / 1000\n",
    "    logistic_results['eval_time'].append(eval_time_interval)\n",
    "    logistic_results['accuracy'].append(evaluation_logistic.percent_correct)\n",
    "    logistic_results['area_under_curve'].append(evaluation_logistic.area_under_roc(1))\n",
    "    logistic_results['mcc'].append(mcc(evaluation_logistic.confusion_matrix.tolist()))"
   ]
  },
  {
   "cell_type": "code",
   "execution_count": 69,
   "metadata": {
    "collapsed": false
   },
   "outputs": [
    {
     "name": "stdout",
     "output_type": "stream",
     "text": [
      "LOGISTIC CLASSIFIER ON FULL DATASET\n",
      "  Results over 20 iterations: \n",
      "    Training time: mean 10.4326 seconds, stdev 0.313756019863 seconds\n",
      "    Accuracy: mean 87.6543380574 percent, stdev 1.42108547152e-14 percent\n",
      "    Area under ROC curve: mean 0.8812323319, stdev 0.0\n",
      "    Matthews Correlation Coefficient: mean 0.592735418698, stdev 0.0\n",
      "    Ten-fold cross-validation time: mean 91.05705 seconds, stdev 0.608161695193 seconds\n"
     ]
    }
   ],
   "source": [
    "# summarize the results\n",
    "print(results_template.format(\n",
    "        'Logistic Classifier on Full Dataset'.upper(), iterations,\n",
    "        np.mean(logistic_results['train_time']), np.std(logistic_results['train_time']),\n",
    "        np.mean(logistic_results['accuracy']), np.std(logistic_results['accuracy']),\n",
    "        np.mean(logistic_results['area_under_curve']), np.std(logistic_results['area_under_curve']),\n",
    "        np.mean(logistic_results['mcc']), np.std(logistic_results['mcc']),\n",
    "        np.mean(logistic_results['eval_time']), np.std(logistic_results['eval_time'])))"
   ]
  },
  {
   "cell_type": "markdown",
   "metadata": {
    "collapsed": true
   },
   "source": [
    "## Feature Selection"
   ]
  },
  {
   "cell_type": "code",
   "execution_count": 36,
   "metadata": {
    "collapsed": false
   },
   "outputs": [
    {
     "name": "stdout",
     "output_type": "stream",
     "text": [
      "Number of attributes: 13\n",
      "Attributes: [25 32 34 37 38 39 40 41 42 43 46 47 51  1]\n",
      "Result string:\n",
      "\n",
      "\n",
      "=== Attribute Selection on all input data ===\n",
      "\n",
      "Search Method:\n",
      "\tBest first.\n",
      "\tStart set: no attributes\n",
      "\tSearch direction: forward\n",
      "\tStale search after 5 node expansions\n",
      "\tTotal number of subsets evaluated: 774\n",
      "\tMerit of best subset found:    0.227\n",
      "\n",
      "Attribute Subset Evaluator (supervised, Class (nominal): 2 Lbl):\n",
      "\tCFS Subset Evaluator\n",
      "\tIncluding locally predictive attributes\n",
      "\n",
      "Selected attributes: 26,33,35,38,39,40,41,42,43,44,47,48,52 : 13\n",
      "                     U26\n",
      "                     E33\n",
      "                     E35\n",
      "                     E38\n",
      "                     E39\n",
      "                     E40\n",
      "                     E41\n",
      "                     E42\n",
      "                     E43\n",
      "                     E44\n",
      "                     E47\n",
      "                     E48\n",
      "                     E52\n",
      "\n"
     ]
    }
   ],
   "source": [
    "from weka.attribute_selection import ASSearch, ASEvaluation, AttributeSelection\n",
    "\n",
    "search = ASSearch(classname='weka.attributeSelection.BestFirst',\n",
    "                  options=['-D', '1', '-N', '5'])\n",
    "evaluator = ASEvaluation(classname=\"weka.attributeSelection.CfsSubsetEval\",\n",
    "                         options=[\"-P\", \"1\", \"-E\", \"1\"])\n",
    "attsel = AttributeSelection()\n",
    "attsel.search(search)\n",
    "attsel.evaluator(evaluator)\n",
    "attsel.select_attributes(data)\n",
    "\n",
    "reduced_data = attsel.reduce_dimensionality(data)\n",
    "\n",
    "print(\"Number of attributes: {}\\nAttributes: {}\\n\"\n",
    "      \"Result string:\\n{}\".format(\n",
    "      attsel.number_attributes_selected, \n",
    "      attsel.selected_attributes, attsel.results_string))"
   ]
  },
  {
   "cell_type": "markdown",
   "metadata": {},
   "source": [
    "### J48 Classifier"
   ]
  },
  {
   "cell_type": "code",
   "execution_count": 37,
   "metadata": {
    "collapsed": false
   },
   "outputs": [
    {
     "name": "stdout",
     "output_type": "stream",
     "text": [
      "Results over 20 iterations: \n",
      "  Average training time: 9.84345 seconds\n",
      "  Average accuracy: 86.8233667473 percent\n",
      "  Average area under ROC curve: 0.810373587749\n",
      "  Average Matthews Correlation Coefficient: 0.566642249281\n",
      "  Average ten-fold cross-validation time: 110.93535 seconds\n"
     ]
    }
   ],
   "source": [
    "j48_results_reduced = {\n",
    "    'train_time': [],\n",
    "    'accuracy': [],\n",
    "    'area_under_curve': [],\n",
    "    'mcc': [],\n",
    "    'eval_time': [],\n",
    "}\n",
    "iterations = 20\n",
    "for i in xrange(1, iterations + 1):\n",
    "    # train the classifier\n",
    "    weka_j48 = Classifier(classname=\"weka.classifiers.trees.J48\")\n",
    "    train_time_start = int(time.time() * 1000)\n",
    "    weka_j48.build_classifier(reduced_data)\n",
    "    train_time_stop = int(time.time() * 1000)\n",
    "    train_time_interval = (train_time_stop - train_time_start) / 1000\n",
    "    j48_results_reduced['train_time'].append(train_time_interval)\n",
    "    # evaluate it with ten-fold cross-validation\n",
    "    evaluation_j48 = Evaluation(reduced_data)\n",
    "    eval_time_start = int(time.time() * 1000)\n",
    "    evaluation_j48.crossvalidate_model(weka_j48, reduced_data, 10, Random(1))\n",
    "    eval_time_stop = int(time.time() * 1000)\n",
    "    eval_time_interval = (eval_time_stop - eval_time_start) / 1000\n",
    "    j48_results_reduced['eval_time'].append(eval_time_interval)\n",
    "    j48_results_reduced['accuracy'].append(evaluation_j48.percent_correct)\n",
    "    j48_results_reduced['area_under_curve'].append(evaluation_j48.area_under_roc(1))\n",
    "    j48_results_reduced['mcc'].append(mcc(evaluation_j48.confusion_matrix.tolist()))"
   ]
  },
  {
   "cell_type": "code",
   "execution_count": 70,
   "metadata": {
    "collapsed": false
   },
   "outputs": [
    {
     "name": "stdout",
     "output_type": "stream",
     "text": [
      "J48 CLASSIFIER ON REDUCED DATASET\n",
      "  Results over 20 iterations: \n",
      "    Training time: mean 9.84345 seconds, stdev 0.183189376057 seconds\n",
      "    Accuracy: mean 86.8233667473 percent, stdev 1.42108547152e-14 percent\n",
      "    Area under ROC curve: mean 0.810373587749, stdev 0.0\n",
      "    Matthews Correlation Coefficient: mean 0.566642249281, stdev 1.11022302463e-16\n",
      "    Ten-fold cross-validation time: mean 110.93535 seconds, stdev 2.18940919599 seconds\n"
     ]
    }
   ],
   "source": [
    "# summarize the results\n",
    "print(results_template.format(\n",
    "        'J48 Classifier on Reduced Dataset'.upper(), iterations,\n",
    "        np.mean(j48_results_reduced['train_time']), np.std(j48_results_reduced['train_time']),\n",
    "        np.mean(j48_results_reduced['accuracy']), np.std(j48_results_reduced['accuracy']),\n",
    "        np.mean(j48_results_reduced['area_under_curve']), np.std(j48_results_reduced['area_under_curve']),\n",
    "        np.mean(j48_results_reduced['mcc']), np.std(j48_results_reduced['mcc']),\n",
    "        np.mean(j48_results_reduced['eval_time']), np.std(j48_results_reduced['eval_time'])))"
   ]
  },
  {
   "cell_type": "markdown",
   "metadata": {},
   "source": [
    "### Naive Bayes Classifier"
   ]
  },
  {
   "cell_type": "code",
   "execution_count": 38,
   "metadata": {
    "collapsed": false
   },
   "outputs": [
    {
     "name": "stdout",
     "output_type": "stream",
     "text": [
      "Results over 20 iterations: \n",
      "  Average training time: 0.1922 seconds\n",
      "  Average accuracy: 86.126512271 percent\n",
      "  Average area under ROC curve: 0.862529456885\n",
      "  Average Matthews Correlation Coefficient: 0.554512378152\n",
      "  Average ten-fold cross-validation time: 2.35235 seconds\n"
     ]
    }
   ],
   "source": [
    "naive_bayes_results_reduced = {\n",
    "    'train_time': [],\n",
    "    'accuracy': [],\n",
    "    'area_under_curve': [],\n",
    "    'mcc': [],\n",
    "    'eval_time': [],\n",
    "    }\n",
    "iterations = 20\n",
    "for i in xrange(1, iterations + 1):\n",
    "    # train the classifier\n",
    "    weka_naive_bayes = Classifier(classname=\"weka.classifiers.bayes.NaiveBayes\")\n",
    "    train_time_start = int(time.time() * 1000)\n",
    "    weka_naive_bayes.build_classifier(reduced_data)\n",
    "    train_time_stop = int(time.time() * 1000)\n",
    "    train_time_interval = (train_time_stop - train_time_start) / 1000\n",
    "    naive_bayes_results_reduced['train_time'].append(train_time_interval)\n",
    "    # evaluate it with ten-fold cross-validation\n",
    "    evaluation_naive_bayes = Evaluation(reduced_data)\n",
    "    eval_time_start = int(time.time() * 1000)\n",
    "    evaluation_naive_bayes.crossvalidate_model(weka_naive_bayes, reduced_data, 10, Random(1))\n",
    "    eval_time_stop = int(time.time() * 1000)\n",
    "    eval_time_interval = (eval_time_stop - eval_time_start) / 1000\n",
    "    naive_bayes_results_reduced['eval_time'].append(eval_time_interval)\n",
    "    naive_bayes_results_reduced['accuracy'].append(evaluation_naive_bayes.percent_correct)\n",
    "    naive_bayes_results_reduced['area_under_curve'].append(evaluation_naive_bayes.area_under_roc(1))\n",
    "    naive_bayes_results_reduced['mcc'].append(mcc(evaluation_naive_bayes.confusion_matrix.tolist()))"
   ]
  },
  {
   "cell_type": "code",
   "execution_count": 71,
   "metadata": {
    "collapsed": false
   },
   "outputs": [
    {
     "name": "stdout",
     "output_type": "stream",
     "text": [
      "NAIVE BAYES CLASSIFIER ON REDUCED DATASET\n",
      "  Results over 20 iterations: \n",
      "    Training time: mean 0.1922 seconds, stdev 0.0353561875773 seconds\n",
      "    Accuracy: mean 86.126512271 percent, stdev 1.42108547152e-14 percent\n",
      "    Area under ROC curve: mean 0.862529456885, stdev 1.11022302463e-16\n",
      "    Matthews Correlation Coefficient: mean 0.554512378152, stdev 1.11022302463e-16\n",
      "    Ten-fold cross-validation time: mean 2.35235 seconds, stdev 0.278219926497 seconds\n"
     ]
    }
   ],
   "source": [
    "# summarize the results\n",
    "print(results_template.format(\n",
    "        'Naive Bayes Classifier on Reduced Dataset'.upper(), iterations,\n",
    "        np.mean(naive_bayes_results_reduced['train_time']), np.std(naive_bayes_results_reduced['train_time']),\n",
    "        np.mean(naive_bayes_results_reduced['accuracy']), np.std(naive_bayes_results_reduced['accuracy']),\n",
    "        np.mean(naive_bayes_results_reduced['area_under_curve']), np.std(naive_bayes_results_reduced['area_under_curve']),\n",
    "        np.mean(naive_bayes_results_reduced['mcc']), np.std(naive_bayes_results_reduced['mcc']),\n",
    "        np.mean(naive_bayes_results_reduced['eval_time']), np.std(naive_bayes_results_reduced['eval_time'])))"
   ]
  },
  {
   "cell_type": "markdown",
   "metadata": {},
   "source": [
    "### Logistic Classifier"
   ]
  },
  {
   "cell_type": "code",
   "execution_count": 39,
   "metadata": {
    "collapsed": false
   },
   "outputs": [
    {
     "name": "stdout",
     "output_type": "stream",
     "text": [
      "Results over 20 iterations: \n",
      "  Average training time: 2.73935 seconds\n",
      "  Average accuracy: 87.2022122364 percent\n",
      "  Average area under ROC curve: 0.870423814362\n",
      "  Average Matthews Correlation Coefficient: 0.5732569037\n",
      "  Average ten-fold cross-validation time: 24.3857 seconds\n"
     ]
    }
   ],
   "source": [
    "logistic_results_reduced = {\n",
    "    'train_time': [],\n",
    "    'accuracy': [],\n",
    "    'area_under_curve': [],\n",
    "    'mcc': [],\n",
    "    'eval_time': [],\n",
    "    }\n",
    "iterations = 20\n",
    "for i in xrange(1, iterations + 1):\n",
    "    # train the classifier\n",
    "    weka_logistic = Classifier(classname=\"weka.classifiers.functions.Logistic\")\n",
    "    train_time_start = int(time.time() * 1000)\n",
    "    weka_logistic.build_classifier(reduced_data)\n",
    "    train_time_stop = int(time.time() * 1000)\n",
    "    train_time_interval = (train_time_stop - train_time_start) / 1000\n",
    "    logistic_results_reduced['train_time'].append(train_time_interval)\n",
    "    # evaluate it with ten-fold cross-validation\n",
    "    evaluation_logistic = Evaluation(reduced_data)\n",
    "    eval_time_start = int(time.time() * 1000)\n",
    "    evaluation_logistic.crossvalidate_model(weka_logistic, reduced_data, 10, Random(1))\n",
    "    eval_time_stop = int(time.time() * 1000)\n",
    "    eval_time_interval = (eval_time_stop - eval_time_start) / 1000\n",
    "    logistic_results_reduced['eval_time'].append(eval_time_interval)\n",
    "    logistic_results_reduced['accuracy'].append(evaluation_logistic.percent_correct)\n",
    "    logistic_results_reduced['area_under_curve'].append(evaluation_logistic.area_under_roc(1))\n",
    "    logistic_results_reduced['mcc'].append(mcc(evaluation_logistic.confusion_matrix.tolist()))"
   ]
  },
  {
   "cell_type": "code",
   "execution_count": 72,
   "metadata": {
    "collapsed": false
   },
   "outputs": [
    {
     "name": "stdout",
     "output_type": "stream",
     "text": [
      "LOGISTIC CLASSIFIER ON REDUCED DATASET\n",
      "  Results over 20 iterations: \n",
      "    Training time: mean 2.73935 seconds, stdev 0.0214692221564 seconds\n",
      "    Accuracy: mean 87.2022122364 percent, stdev 1.42108547152e-14 percent\n",
      "    Area under ROC curve: mean 0.870423814362, stdev 1.11022302463e-16\n",
      "    Matthews Correlation Coefficient: mean 0.5732569037, stdev 1.11022302463e-16\n",
      "    Ten-fold cross-validation time: mean 24.3857 seconds, stdev 0.272551664827 seconds\n"
     ]
    }
   ],
   "source": [
    "# summarize the results\n",
    "print(results_template.format(\n",
    "        'Logistic Classifier on Reduced Dataset'.upper(), iterations,\n",
    "        np.mean(logistic_results_reduced['train_time']), np.std(logistic_results_reduced['train_time']),\n",
    "        np.mean(logistic_results_reduced['accuracy']), np.std(logistic_results_reduced['accuracy']),\n",
    "        np.mean(logistic_results_reduced['area_under_curve']), np.std(logistic_results_reduced['area_under_curve']),\n",
    "        np.mean(logistic_results_reduced['mcc']), np.std(logistic_results_reduced['mcc']),\n",
    "        np.mean(logistic_results_reduced['eval_time']), np.std(logistic_results_reduced['eval_time'])))"
   ]
  },
  {
   "cell_type": "markdown",
   "metadata": {},
   "source": [
    "### Effects of Attribute Selection"
   ]
  },
  {
   "cell_type": "code",
   "execution_count": 94,
   "metadata": {
    "collapsed": false
   },
   "outputs": [
    {
     "name": "stdout",
     "output_type": "stream",
     "text": [
      "EFFECTS OF FEATURE SELECTION ON THE J48 CLASSIFIER\n",
      "\t\t\tFull Dataset\t\tReduced Dataset\t\tDifference\n",
      "Mean Training Time:\t37.2439\t\t\t9.84345\t\t\t-27.40045\n",
      "Mean Accuracy:\t\t85.2333218113\t\t86.8233667473\t\t1.59004493605\n",
      "Mean Area Under Curve:\t0.73798435131\t\t0.810373587749\t\t0.0723892364385\n",
      "Mean MCC:\t\t0.523401362276\t\t0.566642249281\t\t0.0432408870055\n",
      "Mean 10-Fold CV Time:\t321.09125 \t\t110.93535 \t\t-210.1559\n",
      "\n",
      "\n",
      "EFFECTS OF FEATURE SELECTION ON THE NAIVE BAYES CLASSIFIER\n",
      "\t\t\tFull Dataset\t\tReduced Dataset\t\tDifference\n",
      "Mean Training Time:\t0.7117\t\t\t0.1922\t\t\t-0.5195\n",
      "Mean Accuracy:\t\t84.981679917\t\t86.126512271\t\t1.14483235396\n",
      "Mean Area Under Curve:\t0.857948889851\t\t0.862529456885\t\t0.00458056703405\n",
      "Mean MCC:\t\t0.54646559932\t\t0.554512378152\t\t0.00804677883242\n",
      "Mean 10-Fold CV Time:\t8.14895   \t\t2.35235   \t\t-5.7966\n",
      "\n",
      "\n",
      "EFFECTS OF FEATURE SELECTION ON THE LOGISTIC CLASSIFIER\n",
      "\t\t\tFull Dataset\t\tReduced Dataset\t\tDifference\n",
      "Mean Training Time:\t10.4326\t\t\t2.73935\t\t\t-7.69325\n",
      "Mean Accuracy:\t\t87.6543380574\t\t87.2022122364\t\t-0.452125820947\n",
      "Mean Area Under Curve:\t0.8812323319\t\t0.870423814362\t\t-0.0108085175378\n",
      "Mean MCC:\t\t0.592735418698\t\t0.5732569037\t\t-0.0194785149979\n",
      "Mean 10-Fold CV Time:\t91.05705  \t\t24.3857   \t\t-66.67135\n",
      "\n",
      "\n"
     ]
    }
   ],
   "source": [
    "import numpy as np\n",
    "\n",
    "dicts = {\n",
    "    1: ['J48', j48_results, j48_results_reduced],\n",
    "    2: ['Naive Bayes', naive_bayes_results, naive_bayes_results_reduced],\n",
    "    3: ['Logistic', logistic_results, logistic_results_reduced],\n",
    "}\n",
    "\n",
    "for l in [dicts[1], dicts[2], dicts[3]]:\n",
    "    print(\"Effects of Feature Selection on the {} Classifier\".format(l[0]).upper())\n",
    "    print(\"\\t\\t\\tFull Dataset\\t\\tReduced Dataset\\t\\tDifference\")\n",
    "    print(\"Mean Training Time:\\t{}\\t\\t\\t{}\\t\\t\\t{}\".format(\n",
    "            np.mean(l[1]['train_time']), np.mean(l[2]['train_time']), \n",
    "            np.mean(l[2]['train_time']) - np.mean(l[1]['train_time'])))\n",
    "    print(\"Mean Accuracy:\\t\\t{}\\t\\t{}\\t\\t{}\".format(\n",
    "            np.mean(l[1]['accuracy']), np.mean(l[2]['accuracy']), \n",
    "            np.mean(l[2]['accuracy']) - np.mean(l[1]['accuracy'])))\n",
    "    print(\"Mean Area Under Curve:\\t{}\\t\\t{}\\t\\t{}\".format(\n",
    "            np.mean(l[1]['area_under_curve']), np.mean(l[2]['area_under_curve']), \n",
    "            np.mean(l[2]['area_under_curve']) - np.mean(l[1]['area_under_curve'])))\n",
    "    print(\"Mean MCC:\\t\\t{}\\t\\t{}\\t\\t{}\".format(\n",
    "            np.mean(l[1]['mcc']), np.mean(l[2]['mcc']), \n",
    "            np.mean(l[2]['mcc']) - np.mean(l[1]['mcc'])))\n",
    "    print(\"Mean 10-Fold CV Time:\\t{}\\t\\t{}\\t\\t{}\".format(\n",
    "            str(np.mean(l[1]['eval_time'])).ljust(10, ' '), \n",
    "            str(np.mean(l[2]['eval_time'])).ljust(10, ' '), \n",
    "            np.mean(l[2]['eval_time']) - np.mean(l[1]['eval_time'])))\n",
    "    print('\\n')"
   ]
  },
  {
   "cell_type": "markdown",
   "metadata": {},
   "source": [
    "## Parameter Optimization"
   ]
  },
  {
   "cell_type": "markdown",
   "metadata": {},
   "source": [
    "In this section we attempt to optimize the parameters of the Logistic classifier. Even with the default parameters, it's the most accurate of the three classifiers we've built."
   ]
  },
  {
   "cell_type": "code",
   "execution_count": 105,
   "metadata": {
    "collapsed": false
   },
   "outputs": [],
   "source": [
    "test_model = weka_logistic"
   ]
  },
  {
   "cell_type": "code",
   "execution_count": 106,
   "metadata": {
    "collapsed": false
   },
   "outputs": [
    {
     "data": {
      "text/plain": [
       "weka.classifiers.Classifier"
      ]
     },
     "execution_count": 106,
     "metadata": {},
     "output_type": "execute_result"
    }
   ],
   "source": [
    "type(test_model)"
   ]
  },
  {
   "cell_type": "code",
   "execution_count": 114,
   "metadata": {
    "collapsed": true
   },
   "outputs": [],
   "source": [
    "import javabridge\n",
    "def coefficients(model):\n",
    "    m = javabridge.call(model.jobject, 'coefficients', '()[[D')\n",
    "    result = [javabridge.get_env().get_array_length(m)]\n",
    "    rows = javabridge.get_env().get_object_array_elements(m)\n",
    "    for row in rows:\n",
    "        elements = []\n",
    "        for i, element in enumerate(javabridge.get_env().get_double_array_elements(row)):\n",
    "            elements.append(float(element))\n",
    "        result.append(elements)\n",
    "    return result"
   ]
  },
  {
   "cell_type": "code",
   "execution_count": 116,
   "metadata": {
    "collapsed": false
   },
   "outputs": [
    {
     "data": {
      "text/plain": [
       "[14,\n",
       " [-4.04940132290271],\n",
       " [0.08395065966819282],\n",
       " [0.011301416583085594],\n",
       " [0.16050074495081695],\n",
       " [-0.035802582459458464],\n",
       " [2.8576360942597026],\n",
       " [3.7831564494029477],\n",
       " [0.9729805786133152],\n",
       " [0.016956508337060455],\n",
       " [0.0017345313137402548],\n",
       " [-0.02566419191033152],\n",
       " [-0.02282338247486531],\n",
       " [-94.11231520425851],\n",
       " [0.07923377097779989]]"
      ]
     },
     "execution_count": 116,
     "metadata": {},
     "output_type": "execute_result"
    }
   ],
   "source": [
    "coefficients(weka_logistic)"
   ]
  },
  {
   "cell_type": "code",
   "execution_count": 119,
   "metadata": {
    "collapsed": false
   },
   "outputs": [
    {
     "data": {
      "text/plain": [
       "Capabilities: [Nominal attributes, Binary attributes, Unary attributes, Empty nominal attributes, Numeric attributes, Date attributes, Missing values, Nominal class, Binary class, Missing class values]\n",
       "Dependencies: []\n",
       "min # Instance: 1"
      ]
     },
     "execution_count": 119,
     "metadata": {},
     "output_type": "execute_result"
    }
   ],
   "source": [
    "weka_logistic.capabilities"
   ]
  },
  {
   "cell_type": "code",
   "execution_count": 125,
   "metadata": {
    "collapsed": false
   },
   "outputs": [
    {
     "name": "stdout",
     "output_type": "stream",
     "text": [
      "83.969581749 percent accuracy with ridge of 1e-11 and max iterations of 1\n",
      "87.3681299689 percent accuracy with ridge of 1e-11 and max iterations of 3\n",
      "87.5727618389 percent accuracy with ridge of 1e-11 and max iterations of 10\n",
      "87.6543380574 percent accuracy with ridge of 1e-11 and max iterations of 100\n",
      "83.969581749 percent accuracy with ridge of 1e-07 and max iterations of 1\n",
      "87.3681299689 percent accuracy with ridge of 1e-07 and max iterations of 3\n",
      "87.5727618389 percent accuracy with ridge of 1e-07 and max iterations of 10\n",
      "87.6543380574 percent accuracy with ridge of 1e-07 and max iterations of 100\n",
      "83.969581749 percent accuracy with ridge of 0.0001 and max iterations of 1\n",
      "87.3681299689 percent accuracy with ridge of 0.0001 and max iterations of 3\n",
      "87.5727618389 percent accuracy with ridge of 0.0001 and max iterations of 10\n"
     ]
    },
    {
     "ename": "KeyboardInterrupt",
     "evalue": "",
     "output_type": "error",
     "traceback": [
      "\u001b[0;31m---------------------------------------------------------------------------\u001b[0m",
      "\u001b[0;31mKeyboardInterrupt\u001b[0m                         Traceback (most recent call last)",
      "\u001b[0;32m<ipython-input-125-6f479eb436b7>\u001b[0m in \u001b[0;36m<module>\u001b[0;34m()\u001b[0m\n\u001b[1;32m     21\u001b[0m             \u001b[0mevaluation_logistic\u001b[0m \u001b[0;34m=\u001b[0m \u001b[0mEvaluation\u001b[0m\u001b[0;34m(\u001b[0m\u001b[0mdata\u001b[0m\u001b[0;34m)\u001b[0m\u001b[0;34m\u001b[0m\u001b[0m\n\u001b[1;32m     22\u001b[0m             \u001b[0meval_time_start\u001b[0m \u001b[0;34m=\u001b[0m \u001b[0mint\u001b[0m\u001b[0;34m(\u001b[0m\u001b[0mtime\u001b[0m\u001b[0;34m.\u001b[0m\u001b[0mtime\u001b[0m\u001b[0;34m(\u001b[0m\u001b[0;34m)\u001b[0m \u001b[0;34m*\u001b[0m \u001b[0;36m1000\u001b[0m\u001b[0;34m)\u001b[0m\u001b[0;34m\u001b[0m\u001b[0m\n\u001b[0;32m---> 23\u001b[0;31m             \u001b[0mevaluation_logistic\u001b[0m\u001b[0;34m.\u001b[0m\u001b[0mcrossvalidate_model\u001b[0m\u001b[0;34m(\u001b[0m\u001b[0mweka_logistic\u001b[0m\u001b[0;34m,\u001b[0m \u001b[0mdata\u001b[0m\u001b[0;34m,\u001b[0m \u001b[0;36m10\u001b[0m\u001b[0;34m,\u001b[0m \u001b[0mRandom\u001b[0m\u001b[0;34m(\u001b[0m\u001b[0;36m1\u001b[0m\u001b[0;34m)\u001b[0m\u001b[0;34m)\u001b[0m\u001b[0;34m\u001b[0m\u001b[0m\n\u001b[0m\u001b[1;32m     24\u001b[0m             \u001b[0meval_time_stop\u001b[0m \u001b[0;34m=\u001b[0m \u001b[0mint\u001b[0m\u001b[0;34m(\u001b[0m\u001b[0mtime\u001b[0m\u001b[0;34m.\u001b[0m\u001b[0mtime\u001b[0m\u001b[0;34m(\u001b[0m\u001b[0;34m)\u001b[0m \u001b[0;34m*\u001b[0m \u001b[0;36m1000\u001b[0m\u001b[0;34m)\u001b[0m\u001b[0;34m\u001b[0m\u001b[0m\n\u001b[1;32m     25\u001b[0m             \u001b[0meval_time_interval\u001b[0m \u001b[0;34m=\u001b[0m \u001b[0;34m(\u001b[0m\u001b[0meval_time_stop\u001b[0m \u001b[0;34m-\u001b[0m \u001b[0meval_time_start\u001b[0m\u001b[0;34m)\u001b[0m \u001b[0;34m/\u001b[0m \u001b[0;36m1000\u001b[0m\u001b[0;34m\u001b[0m\u001b[0m\n",
      "\u001b[0;32m/Users/mattmenzenski/anaconda/lib/python2.7/site-packages/weka/classifiers.pyc\u001b[0m in \u001b[0;36mcrossvalidate_model\u001b[0;34m(self, classifier, data, num_folds, rnd, output)\u001b[0m\n\u001b[1;32m   1072\u001b[0m             \u001b[0mself\u001b[0m\u001b[0;34m.\u001b[0m\u001b[0mjobject\u001b[0m\u001b[0;34m,\u001b[0m \u001b[0;34m\"crossValidateModel\"\u001b[0m\u001b[0;34m,\u001b[0m\u001b[0;34m\u001b[0m\u001b[0m\n\u001b[1;32m   1073\u001b[0m             \u001b[0;34m\"(Lweka/classifiers/Classifier;Lweka/core/Instances;ILjava/util/Random;[Ljava/lang/Object;)V\"\u001b[0m\u001b[0;34m,\u001b[0m\u001b[0;34m\u001b[0m\u001b[0m\n\u001b[0;32m-> 1074\u001b[0;31m             classifier.jobject, data.jobject, num_folds, rnd.jobject, generator)\n\u001b[0m\u001b[1;32m   1075\u001b[0m \u001b[0;34m\u001b[0m\u001b[0m\n\u001b[1;32m   1076\u001b[0m     \u001b[0;32mdef\u001b[0m \u001b[0mevaluate_train_test_split\u001b[0m\u001b[0;34m(\u001b[0m\u001b[0mself\u001b[0m\u001b[0;34m,\u001b[0m \u001b[0mclassifier\u001b[0m\u001b[0;34m,\u001b[0m \u001b[0mdata\u001b[0m\u001b[0;34m,\u001b[0m \u001b[0mpercentage\u001b[0m\u001b[0;34m,\u001b[0m \u001b[0mrnd\u001b[0m\u001b[0;34m=\u001b[0m\u001b[0mNone\u001b[0m\u001b[0;34m,\u001b[0m \u001b[0moutput\u001b[0m\u001b[0;34m=\u001b[0m\u001b[0mNone\u001b[0m\u001b[0;34m)\u001b[0m\u001b[0;34m:\u001b[0m\u001b[0;34m\u001b[0m\u001b[0m\n",
      "\u001b[0;32m/Users/mattmenzenski/anaconda/lib/python2.7/site-packages/javabridge/jutil.pyc\u001b[0m in \u001b[0;36mcall\u001b[0;34m(o, method_name, sig, *args)\u001b[0m\n\u001b[1;32m    853\u001b[0m     \u001b[0mret_sig\u001b[0m \u001b[0;34m=\u001b[0m \u001b[0msig\u001b[0m\u001b[0;34m[\u001b[0m\u001b[0msig\u001b[0m\u001b[0;34m.\u001b[0m\u001b[0mfind\u001b[0m\u001b[0;34m(\u001b[0m\u001b[0;34m')'\u001b[0m\u001b[0;34m)\u001b[0m\u001b[0;34m+\u001b[0m\u001b[0;36m1\u001b[0m\u001b[0;34m:\u001b[0m\u001b[0;34m]\u001b[0m\u001b[0;34m\u001b[0m\u001b[0m\n\u001b[1;32m    854\u001b[0m     \u001b[0mnice_args\u001b[0m \u001b[0;34m=\u001b[0m \u001b[0mget_nice_args\u001b[0m\u001b[0;34m(\u001b[0m\u001b[0margs\u001b[0m\u001b[0;34m,\u001b[0m \u001b[0margs_sig\u001b[0m\u001b[0;34m)\u001b[0m\u001b[0;34m\u001b[0m\u001b[0m\n\u001b[0;32m--> 855\u001b[0;31m     \u001b[0mresult\u001b[0m \u001b[0;34m=\u001b[0m \u001b[0mfn\u001b[0m\u001b[0;34m(\u001b[0m\u001b[0;34m*\u001b[0m\u001b[0mnice_args\u001b[0m\u001b[0;34m)\u001b[0m\u001b[0;34m\u001b[0m\u001b[0m\n\u001b[0m\u001b[1;32m    856\u001b[0m     \u001b[0mx\u001b[0m \u001b[0;34m=\u001b[0m \u001b[0menv\u001b[0m\u001b[0;34m.\u001b[0m\u001b[0mexception_occurred\u001b[0m\u001b[0;34m(\u001b[0m\u001b[0;34m)\u001b[0m\u001b[0;34m\u001b[0m\u001b[0m\n\u001b[1;32m    857\u001b[0m     \u001b[0;32mif\u001b[0m \u001b[0mx\u001b[0m \u001b[0;32mis\u001b[0m \u001b[0;32mnot\u001b[0m \u001b[0mNone\u001b[0m\u001b[0;34m:\u001b[0m\u001b[0;34m\u001b[0m\u001b[0m\n",
      "\u001b[0;32m/Users/mattmenzenski/anaconda/lib/python2.7/site-packages/javabridge/jutil.pyc\u001b[0m in \u001b[0;36mfn\u001b[0;34m(*args)\u001b[0m\n\u001b[1;32m    817\u001b[0m     \u001b[0;32mif\u001b[0m \u001b[0mbind\u001b[0m\u001b[0;34m:\u001b[0m\u001b[0;34m\u001b[0m\u001b[0m\n\u001b[1;32m    818\u001b[0m         \u001b[0;32mdef\u001b[0m \u001b[0mfn\u001b[0m\u001b[0;34m(\u001b[0m\u001b[0;34m*\u001b[0m\u001b[0margs\u001b[0m\u001b[0;34m)\u001b[0m\u001b[0;34m:\u001b[0m\u001b[0;34m\u001b[0m\u001b[0m\n\u001b[0;32m--> 819\u001b[0;31m             \u001b[0mresult\u001b[0m \u001b[0;34m=\u001b[0m \u001b[0menv\u001b[0m\u001b[0;34m.\u001b[0m\u001b[0mcall_method\u001b[0m\u001b[0;34m(\u001b[0m\u001b[0mo\u001b[0m\u001b[0;34m,\u001b[0m \u001b[0mmethod_id\u001b[0m\u001b[0;34m,\u001b[0m \u001b[0;34m*\u001b[0m\u001b[0margs\u001b[0m\u001b[0;34m)\u001b[0m\u001b[0;34m\u001b[0m\u001b[0m\n\u001b[0m\u001b[1;32m    820\u001b[0m             \u001b[0mx\u001b[0m \u001b[0;34m=\u001b[0m \u001b[0menv\u001b[0m\u001b[0;34m.\u001b[0m\u001b[0mexception_occurred\u001b[0m\u001b[0;34m(\u001b[0m\u001b[0;34m)\u001b[0m\u001b[0;34m\u001b[0m\u001b[0m\n\u001b[1;32m    821\u001b[0m             \u001b[0;32mif\u001b[0m \u001b[0mx\u001b[0m \u001b[0;32mis\u001b[0m \u001b[0;32mnot\u001b[0m \u001b[0mNone\u001b[0m\u001b[0;34m:\u001b[0m\u001b[0;34m\u001b[0m\u001b[0m\n",
      "\u001b[0;31mKeyboardInterrupt\u001b[0m: "
     ]
    }
   ],
   "source": [
    "logistic_results_opt = {\n",
    "    'train_time': [],\n",
    "    'accuracy': [],\n",
    "    'area_under_curve': [],\n",
    "    'mcc': [],\n",
    "    'eval_time': [],\n",
    "    }\n",
    "iterations = 1\n",
    "for i in xrange(1, iterations + 1):\n",
    "    for r in [0.00000000001, 0.0000001, 0.0001, 0.01, 0.1, 1]:\n",
    "        for m in [1, 3, 10, 100]:\n",
    "            # train the classifier\n",
    "            weka_logistic = Classifier(classname=\"weka.classifiers.functions.Logistic\",\n",
    "                                       options=[\"-R\", \"{}\".format(r), \"-M\", \"{}\".format(m)])\n",
    "            train_time_start = int(time.time() * 1000)\n",
    "            weka_logistic.build_classifier(reduced_data)\n",
    "            train_time_stop = int(time.time() * 1000)\n",
    "            train_time_interval = (train_time_stop - train_time_start) / 1000\n",
    "            logistic_results_opt['train_time'].append(train_time_interval)\n",
    "            # evaluate it with ten-fold cross-validation\n",
    "            evaluation_logistic = Evaluation(data)\n",
    "            eval_time_start = int(time.time() * 1000)\n",
    "            evaluation_logistic.crossvalidate_model(weka_logistic, data, 10, Random(1))\n",
    "            eval_time_stop = int(time.time() * 1000)\n",
    "            eval_time_interval = (eval_time_stop - eval_time_start) / 1000\n",
    "            logistic_results_opt['eval_time'].append(eval_time_interval)\n",
    "            logistic_results_opt['accuracy'].append(evaluation_logistic.percent_correct)\n",
    "            logistic_results_opt['area_under_curve'].append(evaluation_logistic.area_under_roc(1))\n",
    "            logistic_results_opt['mcc'].append(mcc(evaluation_logistic.confusion_matrix.tolist()))\n",
    "            print(\"{} percent accuracy with ridge of {} and max iterations of {}\".format(\n",
    "                evaluation_logistic.percent_correct, r, m))"
   ]
  },
  {
   "cell_type": "code",
   "execution_count": null,
   "metadata": {
    "collapsed": true
   },
   "outputs": [],
   "source": [
    "# summarize the results\n",
    "print(results_template.format(\n",
    "        'Logistic Classifier Trained on Reduced Dataset, Tested on Full Dataset ' \\\n",
    "        'With Options [\"-R\", \"0.01\"]'.upper(), iterations,\n",
    "        np.mean(logistic_results['train_time']), np.std(logistic_results['train_time']),\n",
    "        np.mean(logistic_results['accuracy']), np.std(logistic_results['accuracy']),\n",
    "        np.mean(logistic_results['area_under_curve']), np.std(logistic_results['area_under_curve']),\n",
    "        np.mean(logistic_results['mcc']), np.std(logistic_results['mcc']),\n",
    "        np.mean(logistic_results['eval_time']), np.std(logistic_results['eval_time'])))"
   ]
  },
  {
   "cell_type": "code",
   "execution_count": 129,
   "metadata": {
    "collapsed": false
   },
   "outputs": [
    {
     "name": "stdout",
     "output_type": "stream",
     "text": [
      "weka.classifiers.trees.J48\n",
      "==========================\n",
      "\n",
      "DESCRIPTION\n",
      "\n",
      "Class for generating a pruned or unpruned C4.5 decision tree. For more information, see\n",
      "\n",
      "Ross Quinlan (1993). C4.5: Programs for Machine Learning. Morgan Kaufmann Publishers, San Mateo, CA.\n",
      "\n",
      "OPTIONS\n",
      "\n",
      "-U\n",
      "\tUse unpruned tree.\n",
      "\n",
      "-O\n",
      "\tDo not collapse tree.\n",
      "\n",
      "-C <pruning confidence>\n",
      "\tSet confidence threshold for pruning.\n",
      "\t(default 0.25)\n",
      "\n",
      "-M <minimum number of instances>\n",
      "\tSet minimum number of instances per leaf.\n",
      "\t(default 2)\n",
      "\n",
      "-R\n",
      "\tUse reduced error pruning.\n",
      "\n",
      "-N <number of folds>\n",
      "\tSet number of folds for reduced error\n",
      "\tpruning. One fold is used as pruning set.\n",
      "\t(default 3)\n",
      "\n",
      "-B\n",
      "\tUse binary splits only.\n",
      "\n",
      "-S\n",
      "\tDo not perform subtree raising.\n",
      "\n",
      "-L\n",
      "\tDo not clean up after the tree has been built.\n",
      "\n",
      "-A\n",
      "\tLaplace smoothing for predicted probabilities.\n",
      "\n",
      "-J\n",
      "\tDo not use MDL correction for info gain on numeric attributes.\n",
      "\n",
      "-Q <seed>\n",
      "\tSeed for random data shuffling (default 1).\n",
      "\n",
      "-doNotMakeSplitPointActualValue\n",
      "\tDo not make split point actual value.\n",
      "\n",
      "-output-debug-info\n",
      "\tIf set, classifier is run in debug mode and\n",
      "\tmay output additional info to the console\n",
      "\n",
      "-do-not-check-capabilities\n",
      "\tIf set, classifier capabilities are not checked before classifier is built\n",
      "\t(use with caution).\n",
      "\n",
      "-num-decimal-places\n",
      "\tThe number of decimal places for the output of numbers in the model (default 2).\n",
      "\n"
     ]
    }
   ],
   "source": [
    "print(weka_j48.to_help())"
   ]
  },
  {
   "cell_type": "code",
   "execution_count": 130,
   "metadata": {
    "collapsed": false
   },
   "outputs": [
    {
     "name": "stdout",
     "output_type": "stream",
     "text": [
      "weka.classifiers.bayes.NaiveBayes\n",
      "=================================\n",
      "\n",
      "DESCRIPTION\n",
      "\n",
      "Class for a Naive Bayes classifier using estimator classes. Numeric estimator precision values are chosen based on analysis of the  training data. For this reason, the classifier is not an UpdateableClassifier (which in typical usage are initialized with zero training instances) -- if you need the UpdateableClassifier functionality, use the NaiveBayesUpdateable classifier. The NaiveBayesUpdateable classifier will  use a default precision of 0.1 for numeric attributes when buildClassifier is called with zero training instances.\n",
      "\n",
      "For more information on Naive Bayes classifiers, see\n",
      "\n",
      "George H. John, Pat Langley: Estimating Continuous Distributions in Bayesian Classifiers. In: Eleventh Conference on Uncertainty in Artificial Intelligence, San Mateo, 338-345, 1995.\n",
      "\n",
      "OPTIONS\n",
      "\n",
      "-K\n",
      "\tUse kernel density estimator rather than normal\n",
      "\tdistribution for numeric attributes\n",
      "\n",
      "-D\n",
      "\tUse supervised discretization to process numeric attributes\n",
      "\n",
      "\n",
      "-O\n",
      "\tDisplay model in old format (good when there are many classes)\n",
      "\n",
      "\n",
      "-output-debug-info\n",
      "\tIf set, classifier is run in debug mode and\n",
      "\tmay output additional info to the console\n",
      "\n",
      "-do-not-check-capabilities\n",
      "\tIf set, classifier capabilities are not checked before classifier is built\n",
      "\t(use with caution).\n",
      "\n",
      "-num-decimal-places\n",
      "\tThe number of decimal places for the output of numbers in the model (default 2).\n",
      "\n"
     ]
    }
   ],
   "source": [
    "print(weka_naive_bayes.to_help())"
   ]
  },
  {
   "cell_type": "code",
   "execution_count": 131,
   "metadata": {
    "collapsed": false
   },
   "outputs": [
    {
     "name": "stdout",
     "output_type": "stream",
     "text": [
      "weka.classifiers.functions.Logistic\n",
      "===================================\n",
      "\n",
      "DESCRIPTION\n",
      "\n",
      "Class for building and using a multinomial logistic regression model with a ridge estimator.\n",
      "\n",
      "There are some modifications, however, compared to the paper of leCessie and van Houwelingen(1992): \n",
      "\n",
      "If there are k classes for n instances with m attributes, the parameter matrix B to be calculated will be an m*(k-1) matrix.\n",
      "\n",
      "The probability for class j with the exception of the last class is\n",
      "\n",
      "Pj(Xi) = exp(XiBj)/((sum[j=1..(k-1)]exp(Xi*Bj))+1) \n",
      "\n",
      "The last class has probability\n",
      "\n",
      "1-(sum[j=1..(k-1)]Pj(Xi)) \n",
      "\t= 1/((sum[j=1..(k-1)]exp(Xi*Bj))+1)\n",
      "\n",
      "The (negative) multinomial log-likelihood is thus: \n",
      "\n",
      "L = -sum[i=1..n]{\n",
      "\tsum[j=1..(k-1)](Yij * ln(Pj(Xi)))\n",
      "\t+(1 - (sum[j=1..(k-1)]Yij)) \n",
      "\t* ln(1 - sum[j=1..(k-1)]Pj(Xi))\n",
      "\t} + ridge * (B^2)\n",
      "\n",
      "In order to find the matrix B for which L is minimised, a Quasi-Newton Method is used to search for the optimized values of the m*(k-1) variables.  Note that before we use the optimization procedure, we 'squeeze' the matrix B into a m*(k-1) vector.  For details of the optimization procedure, please check weka.core.Optimization class.\n",
      "\n",
      "Although original Logistic Regression does not deal with instance weights, we modify the algorithm a little bit to handle the instance weights.\n",
      "\n",
      "For more information see:\n",
      "\n",
      "le Cessie, S., van Houwelingen, J.C. (1992). Ridge Estimators in Logistic Regression. Applied Statistics. 41(1):191-201.\n",
      "\n",
      "Note: Missing values are replaced using a ReplaceMissingValuesFilter, and nominal attributes are transformed into numeric attributes using a NominalToBinaryFilter.\n",
      "\n",
      "OPTIONS\n",
      "\n",
      "-C\n",
      "\tUse conjugate gradient descent rather than BFGS updates.\n",
      "\n",
      "-R <ridge>\n",
      "\tSet the ridge in the log-likelihood.\n",
      "\n",
      "-M <number>\n",
      "\tSet the maximum number of iterations (default -1, until convergence).\n",
      "\n",
      "-output-debug-info\n",
      "\tIf set, classifier is run in debug mode and\n",
      "\tmay output additional info to the console\n",
      "\n",
      "-do-not-check-capabilities\n",
      "\tIf set, classifier capabilities are not checked before classifier is built\n",
      "\t(use with caution).\n",
      "\n",
      "-num-decimal-places\n",
      "\tThe number of decimal places for the output of numbers in the model (default 2).\n",
      "\n"
     ]
    }
   ],
   "source": [
    "print(weka_logistic.to_help())"
   ]
  },
  {
   "cell_type": "code",
   "execution_count": 134,
   "metadata": {
    "collapsed": false
   },
   "outputs": [
    {
     "name": "stdout",
     "output_type": "stream",
     "text": [
      "84.0981679917 percent accuracy with option ['-K']\n",
      "81.4863463533 percent accuracy with option ['-D']\n",
      "84.981679917 percent accuracy with option []\n",
      "84.0981679917 percent accuracy with option ['-K']\n",
      "81.4863463533 percent accuracy with option ['-D']\n",
      "84.981679917 percent accuracy with option []\n",
      "84.0981679917 percent accuracy with option ['-K']\n",
      "81.4863463533 percent accuracy with option ['-D']\n",
      "84.981679917 percent accuracy with option []\n",
      "84.0981679917 percent accuracy with option ['-K']\n",
      "81.4863463533 percent accuracy with option ['-D']\n",
      "84.981679917 percent accuracy with option []\n"
     ]
    }
   ],
   "source": [
    "naive_bayes_results_opt = {\n",
    "    'train_time': [],\n",
    "    'accuracy': [],\n",
    "    'area_under_curve': [],\n",
    "    'mcc': [],\n",
    "    'eval_time': [],\n",
    "    }\n",
    "iterations = 4\n",
    "for i in xrange(1, iterations + 1):\n",
    "    for opt in [['-K'], ['-D'], []]:\n",
    "        # train the classifier\n",
    "        weka_naive_bayes = Classifier(classname=\"weka.classifiers.bayes.NaiveBayes\",\n",
    "                                   options=opt)\n",
    "        train_time_start = int(time.time() * 1000)\n",
    "        weka_naive_bayes.build_classifier(reduced_data)\n",
    "        train_time_stop = int(time.time() * 1000)\n",
    "        train_time_interval = (train_time_stop - train_time_start) / 1000\n",
    "        naive_bayes_results_opt['train_time'].append(train_time_interval)\n",
    "        # evaluate it with ten-fold cross-validation\n",
    "        evaluation_naive_bayes = Evaluation(data)\n",
    "        eval_time_start = int(time.time() * 1000)\n",
    "        evaluation_naive_bayes.crossvalidate_model(weka_naive_bayes, data, 10, Random(1))\n",
    "        eval_time_stop = int(time.time() * 1000)\n",
    "        eval_time_interval = (eval_time_stop - eval_time_start) / 1000\n",
    "        naive_bayes_results_opt['eval_time'].append(eval_time_interval)\n",
    "        naive_bayes_results_opt['accuracy'].append(evaluation_naive_bayes.percent_correct)\n",
    "        naive_bayes_results_opt['area_under_curve'].append(evaluation_naive_bayes.area_under_roc(1))\n",
    "        naive_bayes_results_opt['mcc'].append(mcc(evaluation_naive_bayes.confusion_matrix.tolist()))\n",
    "        print(\"{} percent accuracy with option {}\".format(\n",
    "            evaluation_naive_bayes.percent_correct, opt))"
   ]
  },
  {
   "cell_type": "code",
   "execution_count": null,
   "metadata": {
    "collapsed": true
   },
   "outputs": [],
   "source": []
  }
 ],
 "metadata": {
  "kernelspec": {
   "display_name": "Python 2",
   "language": "python",
   "name": "python2"
  },
  "language_info": {
   "codemirror_mode": {
    "name": "ipython",
    "version": 2
   },
   "file_extension": ".py",
   "mimetype": "text/x-python",
   "name": "python",
   "nbconvert_exporter": "python",
   "pygments_lexer": "ipython2",
   "version": "2.7.11"
  }
 },
 "nbformat": 4,
 "nbformat_minor": 0
}
